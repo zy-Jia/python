{
 "cells": [
  {
   "cell_type": "code",
   "execution_count": 1,
   "id": "c5438105",
   "metadata": {},
   "outputs": [],
   "source": [
    "from ML_Package.KNNClassifier import KNNClassifier\n",
    "\n",
    "\n",
    "knn = KNNClassifier()"
   ]
  },
  {
   "cell_type": "code",
   "execution_count": 2,
   "id": "3648497b",
   "metadata": {},
   "outputs": [
    {
     "data": {
      "text/plain": [
       "(array([[3.39353321, 2.33127338],\n",
       "        [2.11007348, 1.78153964],\n",
       "        [1.34380883, 3.36836095],\n",
       "        [3.58229404, 4.67917911],\n",
       "        [2.28036244, 2.86699026],\n",
       "        [7.42343694, 4.69652288],\n",
       "        [5.745052  , 3.5339898 ],\n",
       "        [9.17216862, 2.51110105],\n",
       "        [7.79278348, 3.42408894],\n",
       "        [7.93982082, 0.79163723]]),\n",
       " array([0, 0, 0, 0, 0, 1, 1, 1, 1, 1]))"
      ]
     },
     "execution_count": 2,
     "metadata": {},
     "output_type": "execute_result"
    }
   ],
   "source": [
    "import numpy as np\n",
    "\n",
    "\n",
    "# 特征\n",
    "raw_data_x= [[3.393533211,2.331273381],\n",
    "             [2.110073483,1.781539638],\n",
    "             [1.343808831,3.368360954],\n",
    "             [3.582294042,4.679179110],\n",
    "             [2.280362439,2.866990263],\n",
    "             [7.423436942,4.696522875],\n",
    "             [5.745051997,3.533989803],\n",
    "             [9.172168622,2.511101045],\n",
    "             [7.792783481,3.424088941],\n",
    "             [7.939820817,0.791637231]\n",
    "            ]\n",
    "# 所属类别\n",
    "raw_data_y = [0,0,0,0,0,1,1,1,1,1]\n",
    "\n",
    "X_train = np.asarray(raw_data_x)\n",
    "y_train = np.asarray(raw_data_y)\n",
    "X_train, y_train"
   ]
  },
  {
   "cell_type": "code",
   "execution_count": 3,
   "id": "56cbda7e",
   "metadata": {},
   "outputs": [
    {
     "data": {
      "text/plain": [
       "KNNClassifier()"
      ]
     },
     "execution_count": 3,
     "metadata": {},
     "output_type": "execute_result"
    }
   ],
   "source": [
    "knn.fit(X_train, y_train)"
   ]
  },
  {
   "cell_type": "code",
   "execution_count": 8,
   "id": "3b967dbc",
   "metadata": {},
   "outputs": [],
   "source": [
    "val_X = np.asarray([8.093607318,3.365731514])\n",
    "val_X = val_X.reshape((1, -1))"
   ]
  },
  {
   "cell_type": "code",
   "execution_count": 9,
   "id": "e6e43ff9",
   "metadata": {},
   "outputs": [
    {
     "data": {
      "text/plain": [
       "array([1])"
      ]
     },
     "execution_count": 9,
     "metadata": {},
     "output_type": "execute_result"
    }
   ],
   "source": [
    "knn.predict(val_X)"
   ]
  },
  {
   "cell_type": "code",
   "execution_count": null,
   "id": "164401ac",
   "metadata": {},
   "outputs": [],
   "source": []
  }
 ],
 "metadata": {
  "kernelspec": {
   "display_name": "Python 3",
   "language": "python",
   "name": "python3"
  },
  "language_info": {
   "codemirror_mode": {
    "name": "ipython",
    "version": 3
   },
   "file_extension": ".py",
   "mimetype": "text/x-python",
   "name": "python",
   "nbconvert_exporter": "python",
   "pygments_lexer": "ipython3",
   "version": "3.8.8"
  }
 },
 "nbformat": 4,
 "nbformat_minor": 5
}
