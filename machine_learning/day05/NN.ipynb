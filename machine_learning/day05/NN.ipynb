{
 "cells": [
  {
   "cell_type": "code",
   "execution_count": 1,
   "id": "89ef189e",
   "metadata": {},
   "outputs": [],
   "source": [
    "import torch\n",
    "from ML_Package.NN import NN"
   ]
  },
  {
   "cell_type": "code",
   "execution_count": 2,
   "id": "9974cdf8",
   "metadata": {},
   "outputs": [
    {
     "data": {
      "text/plain": [
       "NN(\n",
       "  (conv1): Conv2d(1, 6, kernel_size=(3, 3), stride=(1, 1))\n",
       "  (conv2): Conv2d(6, 16, kernel_size=(3, 3), stride=(1, 1))\n",
       "  (fc1): Linear(in_features=12544, out_features=512, bias=True)\n",
       "  (fc2): Linear(in_features=512, out_features=64, bias=True)\n",
       "  (fc3): Linear(in_features=64, out_features=2, bias=True)\n",
       ")"
      ]
     },
     "execution_count": 2,
     "metadata": {},
     "output_type": "execute_result"
    }
   ],
   "source": [
    "nn = NN()\n",
    "nn"
   ]
  },
  {
   "cell_type": "code",
   "execution_count": 3,
   "id": "327a646f",
   "metadata": {},
   "outputs": [
    {
     "data": {
      "text/plain": [
       "torch.Size([1, 1, 32, 32])"
      ]
     },
     "execution_count": 3,
     "metadata": {},
     "output_type": "execute_result"
    }
   ],
   "source": [
    "data_in = torch.rand(1, 1, 32, 32)\n",
    "data_in.shape"
   ]
  },
  {
   "cell_type": "code",
   "execution_count": 4,
   "id": "21903ca2",
   "metadata": {},
   "outputs": [
    {
     "data": {
      "text/plain": [
       "torch.Size([1, 1, 32, 32])"
      ]
     },
     "execution_count": 4,
     "metadata": {},
     "output_type": "execute_result"
    }
   ],
   "source": [
    "data_in.size()"
   ]
  },
  {
   "cell_type": "code",
   "execution_count": 5,
   "id": "0ea546a1",
   "metadata": {},
   "outputs": [],
   "source": [
    "out = nn(data_in)"
   ]
  },
  {
   "cell_type": "code",
   "execution_count": 6,
   "id": "cdc4f221",
   "metadata": {},
   "outputs": [
    {
     "data": {
      "text/plain": [
       "tensor([-1.2669, -0.8669])"
      ]
     },
     "execution_count": 6,
     "metadata": {},
     "output_type": "execute_result"
    }
   ],
   "source": [
    "target = torch.randn(2)\n",
    "target"
   ]
  },
  {
   "cell_type": "code",
   "execution_count": 7,
   "id": "d25bf027",
   "metadata": {},
   "outputs": [
    {
     "data": {
      "text/plain": [
       "tensor([[-1.2669, -0.8669]])"
      ]
     },
     "execution_count": 7,
     "metadata": {},
     "output_type": "execute_result"
    }
   ],
   "source": [
    "target = target.view(1, -1)\n",
    "target"
   ]
  },
  {
   "cell_type": "code",
   "execution_count": 8,
   "id": "3677e019",
   "metadata": {},
   "outputs": [
    {
     "data": {
      "text/plain": [
       "tensor([[-0.0794, -0.1035]], grad_fn=<AddmmBackward>)"
      ]
     },
     "execution_count": 8,
     "metadata": {},
     "output_type": "execute_result"
    }
   ],
   "source": [
    "out"
   ]
  },
  {
   "cell_type": "code",
   "execution_count": 9,
   "id": "70c25932",
   "metadata": {},
   "outputs": [
    {
     "data": {
      "text/plain": [
       "tensor(0.9755, grad_fn=<L1LossBackward>)"
      ]
     },
     "execution_count": 9,
     "metadata": {},
     "output_type": "execute_result"
    }
   ],
   "source": [
    "import torch\n",
    "criterion = torch.nn.L1Loss()\n",
    "loss = criterion(out, target)\n",
    "loss"
   ]
  },
  {
   "cell_type": "code",
   "execution_count": 10,
   "id": "226c50a1",
   "metadata": {},
   "outputs": [],
   "source": [
    "nn.zero_grad() #清零梯度\n",
    "loss.backward() #自动计算梯度，反向传递"
   ]
  },
  {
   "cell_type": "code",
   "execution_count": 11,
   "id": "909e6907",
   "metadata": {},
   "outputs": [],
   "source": [
    "optimizer = torch.optim.SGD(nn.parameters(), lr = 0.01)\n",
    "optimizer.step()"
   ]
  },
  {
   "cell_type": "code",
   "execution_count": 12,
   "id": "87dcae67",
   "metadata": {},
   "outputs": [
    {
     "data": {
      "text/plain": [
       "tensor([[-0.1352, -0.1631]], grad_fn=<AddmmBackward>)"
      ]
     },
     "execution_count": 12,
     "metadata": {},
     "output_type": "execute_result"
    }
   ],
   "source": [
    "out = nn(data_in)\n",
    "out"
   ]
  },
  {
   "cell_type": "code",
   "execution_count": 13,
   "id": "aa20c77d",
   "metadata": {},
   "outputs": [
    {
     "data": {
      "text/plain": [
       "tensor(0.9178, grad_fn=<L1LossBackward>)"
      ]
     },
     "execution_count": 13,
     "metadata": {},
     "output_type": "execute_result"
    }
   ],
   "source": [
    "#计算损失mae\n",
    "criterion = torch.nn.L1Loss()\n",
    "loss = criterion(out, target)\n",
    "loss"
   ]
  },
  {
   "cell_type": "code",
   "execution_count": 14,
   "id": "cba57410",
   "metadata": {},
   "outputs": [
    {
     "data": {
      "text/plain": [
       "tensor(0.8768, grad_fn=<L1LossBackward>)"
      ]
     },
     "execution_count": 14,
     "metadata": {},
     "output_type": "execute_result"
    }
   ],
   "source": [
    "nn.zero_grad() \n",
    "loss.backward() \n",
    "optimizer = torch.optim.SGD(nn.parameters(), lr = 0.01)\n",
    "optimizer.step()\n",
    "out = nn(data_in)\n",
    "criterion = torch.nn.L1Loss()\n",
    "loss = criterion(out, target)\n",
    "loss"
   ]
  },
  {
   "cell_type": "code",
   "execution_count": 15,
   "id": "45a64ba5",
   "metadata": {},
   "outputs": [
    {
     "data": {
      "text/plain": [
       "tensor(0.8349, grad_fn=<L1LossBackward>)"
      ]
     },
     "execution_count": 15,
     "metadata": {},
     "output_type": "execute_result"
    }
   ],
   "source": [
    "nn.zero_grad() \n",
    "loss.backward() \n",
    "optimizer = torch.optim.SGD(nn.parameters(), lr = 0.01)\n",
    "optimizer.step()\n",
    "out = nn(data_in)\n",
    "criterion = torch.nn.L1Loss()\n",
    "loss = criterion(out, target)\n",
    "loss"
   ]
  },
  {
   "cell_type": "code",
   "execution_count": 16,
   "id": "896ed838",
   "metadata": {},
   "outputs": [
    {
     "name": "stdout",
     "output_type": "stream",
     "text": [
      "tensor(0.7940, grad_fn=<L1LossBackward>)\n",
      "tensor(0.7472, grad_fn=<L1LossBackward>)\n",
      "tensor(0.6906, grad_fn=<L1LossBackward>)\n",
      "tensor(0.6239, grad_fn=<L1LossBackward>)\n",
      "tensor(0.5371, grad_fn=<L1LossBackward>)\n",
      "tensor(0.4264, grad_fn=<L1LossBackward>)\n",
      "tensor(0.2730, grad_fn=<L1LossBackward>)\n",
      "tensor(0.1661, grad_fn=<L1LossBackward>)\n",
      "tensor(0.0356, grad_fn=<L1LossBackward>)\n",
      "tensor(0.3156, grad_fn=<L1LossBackward>)\n",
      "tensor(0.1248, grad_fn=<L1LossBackward>)\n",
      "tensor(0.1815, grad_fn=<L1LossBackward>)\n",
      "tensor(0.1921, grad_fn=<L1LossBackward>)\n",
      "tensor(0.0751, grad_fn=<L1LossBackward>)\n",
      "tensor(0.2480, grad_fn=<L1LossBackward>)\n",
      "tensor(0.0188, grad_fn=<L1LossBackward>)\n",
      "tensor(0.1272, grad_fn=<L1LossBackward>)\n",
      "tensor(0.0422, grad_fn=<L1LossBackward>)\n",
      "tensor(0.3024, grad_fn=<L1LossBackward>)\n",
      "tensor(0.1201, grad_fn=<L1LossBackward>)\n",
      "tensor(0.1757, grad_fn=<L1LossBackward>)\n",
      "tensor(0.1847, grad_fn=<L1LossBackward>)\n",
      "tensor(0.0743, grad_fn=<L1LossBackward>)\n",
      "tensor(0.2388, grad_fn=<L1LossBackward>)\n",
      "tensor(0.0153, grad_fn=<L1LossBackward>)\n",
      "tensor(0.1100, grad_fn=<L1LossBackward>)\n",
      "tensor(0.0343, grad_fn=<L1LossBackward>)\n",
      "tensor(0.3052, grad_fn=<L1LossBackward>)\n",
      "tensor(0.1123, grad_fn=<L1LossBackward>)\n",
      "tensor(0.1809, grad_fn=<L1LossBackward>)\n",
      "tensor(0.1761, grad_fn=<L1LossBackward>)\n",
      "tensor(0.0811, grad_fn=<L1LossBackward>)\n",
      "tensor(0.2295, grad_fn=<L1LossBackward>)\n",
      "tensor(0.0271, grad_fn=<L1LossBackward>)\n",
      "tensor(0.0880, grad_fn=<L1LossBackward>)\n",
      "tensor(0.0360, grad_fn=<L1LossBackward>)\n",
      "tensor(0.0726, grad_fn=<L1LossBackward>)\n",
      "tensor(0.0463, grad_fn=<L1LossBackward>)\n",
      "tensor(0.2788, grad_fn=<L1LossBackward>)\n",
      "tensor(0.1194, grad_fn=<L1LossBackward>)\n",
      "tensor(0.1623, grad_fn=<L1LossBackward>)\n",
      "tensor(0.1801, grad_fn=<L1LossBackward>)\n",
      "tensor(0.0681, grad_fn=<L1LossBackward>)\n",
      "tensor(0.2312, grad_fn=<L1LossBackward>)\n",
      "tensor(0.0417, grad_fn=<L1LossBackward>)\n",
      "tensor(0.0692, grad_fn=<L1LossBackward>)\n",
      "tensor(0.0496, grad_fn=<L1LossBackward>)\n",
      "tensor(0.0551, grad_fn=<L1LossBackward>)\n",
      "tensor(0.0574, grad_fn=<L1LossBackward>)\n",
      "tensor(0.0422, grad_fn=<L1LossBackward>)\n",
      "tensor(0.0717, grad_fn=<L1LossBackward>)\n",
      "tensor(0.2309, grad_fn=<L1LossBackward>)\n",
      "tensor(0.1403, grad_fn=<L1LossBackward>)\n",
      "tensor(0.1255, grad_fn=<L1LossBackward>)\n",
      "tensor(0.1963, grad_fn=<L1LossBackward>)\n",
      "tensor(0.0506, grad_fn=<L1LossBackward>)\n",
      "tensor(0.0799, grad_fn=<L1LossBackward>)\n",
      "tensor(0.2232, grad_fn=<L1LossBackward>)\n",
      "tensor(0.0457, grad_fn=<L1LossBackward>)\n",
      "tensor(0.0632, grad_fn=<L1LossBackward>)\n",
      "tensor(0.0336, grad_fn=<L1LossBackward>)\n",
      "tensor(0.0753, grad_fn=<L1LossBackward>)\n",
      "tensor(0.2211, grad_fn=<L1LossBackward>)\n",
      "tensor(0.1407, grad_fn=<L1LossBackward>)\n",
      "tensor(0.1194, grad_fn=<L1LossBackward>)\n",
      "tensor(0.1951, grad_fn=<L1LossBackward>)\n",
      "tensor(0.0578, grad_fn=<L1LossBackward>)\n",
      "tensor(0.0772, grad_fn=<L1LossBackward>)\n",
      "tensor(0.2176, grad_fn=<L1LossBackward>)\n",
      "tensor(0.0301, grad_fn=<L1LossBackward>)\n",
      "tensor(0.0699, grad_fn=<L1LossBackward>)\n",
      "tensor(0.0195, grad_fn=<L1LossBackward>)\n",
      "tensor(0.0760, grad_fn=<L1LossBackward>)\n",
      "tensor(0.0378, grad_fn=<L1LossBackward>)\n",
      "tensor(0.2737, grad_fn=<L1LossBackward>)\n",
      "tensor(0.1072, grad_fn=<L1LossBackward>)\n",
      "tensor(0.1647, grad_fn=<L1LossBackward>)\n",
      "tensor(0.1650, grad_fn=<L1LossBackward>)\n",
      "tensor(0.0757, grad_fn=<L1LossBackward>)\n",
      "tensor(0.2139, grad_fn=<L1LossBackward>)\n",
      "tensor(0.0141, grad_fn=<L1LossBackward>)\n",
      "tensor(0.0818, grad_fn=<L1LossBackward>)\n",
      "tensor(0.0180, grad_fn=<L1LossBackward>)\n",
      "tensor(0.2988, grad_fn=<L1LossBackward>)\n",
      "tensor(0.0891, grad_fn=<L1LossBackward>)\n",
      "tensor(0.1870, grad_fn=<L1LossBackward>)\n",
      "tensor(0.1481, grad_fn=<L1LossBackward>)\n",
      "tensor(0.0959, grad_fn=<L1LossBackward>)\n",
      "tensor(0.1981, grad_fn=<L1LossBackward>)\n",
      "tensor(0.0201, grad_fn=<L1LossBackward>)\n",
      "tensor(0.2410, grad_fn=<L1LossBackward>)\n",
      "tensor(0.0439, grad_fn=<L1LossBackward>)\n",
      "tensor(0.2520, grad_fn=<L1LossBackward>)\n",
      "tensor(0.1088, grad_fn=<L1LossBackward>)\n",
      "tensor(0.1511, grad_fn=<L1LossBackward>)\n",
      "tensor(0.1632, grad_fn=<L1LossBackward>)\n",
      "tensor(0.0680, grad_fn=<L1LossBackward>)\n",
      "tensor(0.2095, grad_fn=<L1LossBackward>)\n",
      "tensor(0.0025, grad_fn=<L1LossBackward>)\n",
      "tensor(0.0897, grad_fn=<L1LossBackward>)\n"
     ]
    }
   ],
   "source": [
    "for i in range(0, 100):\n",
    "    nn.zero_grad() \n",
    "    loss.backward() \n",
    "    optimizer = torch.optim.SGD(nn.parameters(), lr = 0.01)\n",
    "    optimizer.step()\n",
    "    out = nn(data_in)\n",
    "    criterion = torch.nn.L1Loss()\n",
    "    loss = criterion(out, target)\n",
    "    print(loss)"
   ]
  },
  {
   "cell_type": "code",
   "execution_count": null,
   "id": "53d9e349",
   "metadata": {},
   "outputs": [],
   "source": []
  }
 ],
 "metadata": {
  "kernelspec": {
   "display_name": "Python 3",
   "language": "python",
   "name": "python3"
  },
  "language_info": {
   "codemirror_mode": {
    "name": "ipython",
    "version": 3
   },
   "file_extension": ".py",
   "mimetype": "text/x-python",
   "name": "python",
   "nbconvert_exporter": "python",
   "pygments_lexer": "ipython3",
   "version": "3.7.4"
  }
 },
 "nbformat": 4,
 "nbformat_minor": 5
}
