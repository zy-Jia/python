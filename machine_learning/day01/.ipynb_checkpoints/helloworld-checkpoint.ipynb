{
 "cells": [
  {
   "cell_type": "code",
   "execution_count": 1,
   "id": "7aa40c0a",
   "metadata": {},
   "outputs": [
    {
     "name": "stdout",
     "output_type": "stream",
     "text": [
      "hello world\n"
     ]
    }
   ],
   "source": [
    "print(\"hello world\")"
   ]
  },
  {
   "cell_type": "markdown",
   "id": "a011df24",
   "metadata": {},
   "source": [
    "hello world"
   ]
  },
  {
   "cell_type": "code",
   "execution_count": 2,
   "id": "649d5864",
   "metadata": {},
   "outputs": [
    {
     "name": "stdout",
     "output_type": "stream",
     "text": [
      "name: name, time: time\n"
     ]
    }
   ],
   "source": [
    "name = 'name'\n",
    "time = 'time'\n",
    "print(\"name: {}, time: {}\".format(name, time))"
   ]
  },
  {
   "cell_type": "code",
   "execution_count": 3,
   "id": "49b28f9c",
   "metadata": {},
   "outputs": [
    {
     "data": {
      "text/plain": [
       "['1', '2', 3, ['4', '5']]"
      ]
     },
     "execution_count": 3,
     "metadata": {},
     "output_type": "execute_result"
    }
   ],
   "source": [
    "arr = [\"1\",\"2\",3,[\"4\",\"5\"]]\n",
    "arr"
   ]
  },
  {
   "cell_type": "code",
   "execution_count": 4,
   "id": "6edc4a5e",
   "metadata": {},
   "outputs": [
    {
     "data": {
      "text/plain": [
       "'2'"
      ]
     },
     "execution_count": 4,
     "metadata": {},
     "output_type": "execute_result"
    }
   ],
   "source": [
    "arr[1]"
   ]
  },
  {
   "cell_type": "code",
   "execution_count": 5,
   "id": "769ad4a4",
   "metadata": {},
   "outputs": [],
   "source": [
    "arr[1] = 22"
   ]
  },
  {
   "cell_type": "code",
   "execution_count": 6,
   "id": "9b488372",
   "metadata": {},
   "outputs": [
    {
     "data": {
      "text/plain": [
       "['1', 22, 3, ['4', '5']]"
      ]
     },
     "execution_count": 6,
     "metadata": {},
     "output_type": "execute_result"
    }
   ],
   "source": [
    "arr"
   ]
  },
  {
   "cell_type": "code",
   "execution_count": 7,
   "id": "b6f918cc",
   "metadata": {},
   "outputs": [],
   "source": [
    "arr.append(6)"
   ]
  },
  {
   "cell_type": "code",
   "execution_count": 8,
   "id": "fcfcfa61",
   "metadata": {},
   "outputs": [
    {
     "data": {
      "text/plain": [
       "['1', 22, 3, ['4', '5'], 6]"
      ]
     },
     "execution_count": 8,
     "metadata": {},
     "output_type": "execute_result"
    }
   ],
   "source": [
    "arr"
   ]
  },
  {
   "cell_type": "code",
   "execution_count": 9,
   "id": "ad2dec31",
   "metadata": {},
   "outputs": [
    {
     "name": "stdout",
     "output_type": "stream",
     "text": [
      "恭喜你成年了，可以去网吧了\n"
     ]
    }
   ],
   "source": [
    "age = 21\n",
    "if age >= 18 and age <= 65:\n",
    "    print('恭喜你成年了，可以去网吧了')\n",
    "elif age > 65 and age <150:\n",
    "    print('恭喜你退休了')\n",
    "elif age >= 0 and age < 18:\n",
    "    print('学习使我快乐')\n",
    "else:\n",
    "    print(\"error\")"
   ]
  },
  {
   "cell_type": "code",
   "execution_count": 10,
   "id": "b74932f9",
   "metadata": {},
   "outputs": [
    {
     "data": {
      "text/plain": [
       "5050"
      ]
     },
     "execution_count": 10,
     "metadata": {},
     "output_type": "execute_result"
    }
   ],
   "source": [
    "sumWhile = 0\n",
    "i = 1\n",
    "while i <= 100:\n",
    "    sumWhile += i\n",
    "    i += 1\n",
    "    \n",
    "sumWhile"
   ]
  },
  {
   "cell_type": "code",
   "execution_count": 11,
   "id": "4f0d15ca",
   "metadata": {},
   "outputs": [
    {
     "data": {
      "text/plain": [
       "5050"
      ]
     },
     "execution_count": 11,
     "metadata": {},
     "output_type": "execute_result"
    }
   ],
   "source": [
    "sumFor = 0\n",
    "for i in range(1, 101):\n",
    "    sumFor += i\n",
    "    \n",
    "sumFor"
   ]
  },
  {
   "cell_type": "code",
   "execution_count": 12,
   "id": "b887e580",
   "metadata": {},
   "outputs": [
    {
     "name": "stdout",
     "output_type": "stream",
     "text": [
      "1\n",
      "22\n",
      "3\n",
      "['4', '5']\n",
      "6\n"
     ]
    }
   ],
   "source": [
    "for it in arr:\n",
    "    print(it)"
   ]
  },
  {
   "cell_type": "code",
   "execution_count": 13,
   "id": "b0e35aed",
   "metadata": {},
   "outputs": [
    {
     "data": {
      "text/plain": [
       "[0, 1, 2, 3, 4, 5, 6, 7, 8, 9]"
      ]
     },
     "execution_count": 13,
     "metadata": {},
     "output_type": "execute_result"
    }
   ],
   "source": [
    "li = []\n",
    "for i in range(10):\n",
    "    li.append(i)\n",
    "li"
   ]
  },
  {
   "cell_type": "code",
   "execution_count": 14,
   "id": "34eb16d6",
   "metadata": {},
   "outputs": [
    {
     "data": {
      "text/plain": [
       "[66, 45, 92, 61, 60, 84, 60, 44, 69, 68]"
      ]
     },
     "execution_count": 14,
     "metadata": {},
     "output_type": "execute_result"
    }
   ],
   "source": [
    "from random import randint\n",
    "\n",
    "\n",
    "li2 = []\n",
    "for i in range(10):\n",
    "    li2.append(randint(40,100))\n",
    "li2"
   ]
  },
  {
   "cell_type": "code",
   "execution_count": 15,
   "id": "968f2643",
   "metadata": {},
   "outputs": [
    {
     "data": {
      "text/plain": [
       "[66, 92, 61, 60, 84, 60, 69, 68]"
      ]
     },
     "execution_count": 15,
     "metadata": {},
     "output_type": "execute_result"
    }
   ],
   "source": [
    "li3 = []\n",
    "for score in li2:\n",
    "    if(score >= 60):\n",
    "       li3.append(score)\n",
    "li3"
   ]
  },
  {
   "cell_type": "code",
   "execution_count": 16,
   "id": "253a9ccd",
   "metadata": {},
   "outputs": [
    {
     "data": {
      "text/plain": [
       "[66, 92, 60, 84, 60, 44, 68]"
      ]
     },
     "execution_count": 16,
     "metadata": {},
     "output_type": "execute_result"
    }
   ],
   "source": [
    "li4 = []\n",
    "for score in li2:\n",
    "    if(score % 2 == 0):\n",
    "       li4.append(score)\n",
    "li4"
   ]
  },
  {
   "cell_type": "code",
   "execution_count": 17,
   "id": "0b468ce1",
   "metadata": {},
   "outputs": [
    {
     "data": {
      "text/plain": [
       "[0, 1, 2, 3, 4, 5, 6, 7, 8, 9]"
      ]
     },
     "execution_count": 17,
     "metadata": {},
     "output_type": "execute_result"
    }
   ],
   "source": [
    "[i for i in range(10)]"
   ]
  },
  {
   "cell_type": "code",
   "execution_count": 18,
   "id": "6bc282fe",
   "metadata": {},
   "outputs": [
    {
     "data": {
      "text/plain": [
       "[48, 65, 84, 71, 55, 62, 77, 43, 56, 45]"
      ]
     },
     "execution_count": 18,
     "metadata": {},
     "output_type": "execute_result"
    }
   ],
   "source": [
    "[randint(40,100) for _ in range(10)]"
   ]
  },
  {
   "cell_type": "code",
   "execution_count": 19,
   "id": "6ec093c4",
   "metadata": {},
   "outputs": [
    {
     "data": {
      "text/plain": [
       "[66, 92, 61, 84, 69, 68]"
      ]
     },
     "execution_count": 19,
     "metadata": {},
     "output_type": "execute_result"
    }
   ],
   "source": [
    "[score for score in li2 if score > 60]"
   ]
  },
  {
   "cell_type": "code",
   "execution_count": 20,
   "id": "92076be6",
   "metadata": {},
   "outputs": [
    {
     "data": {
      "text/plain": [
       "[66, 92, 60, 84, 60, 44, 68]"
      ]
     },
     "execution_count": 20,
     "metadata": {},
     "output_type": "execute_result"
    }
   ],
   "source": [
    "[score for score in li2 if score %2 == 0]"
   ]
  },
  {
   "cell_type": "code",
   "execution_count": 21,
   "id": "a7b93ed2",
   "metadata": {},
   "outputs": [
    {
     "data": {
      "text/plain": [
       "(tuple, (0, 1, 2, 3, 4, 5, 6, 7, 8, 9))"
      ]
     },
     "execution_count": 21,
     "metadata": {},
     "output_type": "execute_result"
    }
   ],
   "source": [
    "a = tuple(li)\n",
    "type(a), a\n"
   ]
  },
  {
   "cell_type": "code",
   "execution_count": 22,
   "id": "de22e030",
   "metadata": {},
   "outputs": [
    {
     "data": {
      "text/plain": [
       "0"
      ]
     },
     "execution_count": 22,
     "metadata": {},
     "output_type": "execute_result"
    }
   ],
   "source": [
    "a[0]"
   ]
  },
  {
   "cell_type": "code",
   "execution_count": 23,
   "id": "9b374103",
   "metadata": {},
   "outputs": [
    {
     "ename": "TypeError",
     "evalue": "'tuple' object does not support item assignment",
     "output_type": "error",
     "traceback": [
      "\u001b[0;31m---------------------------------------------------------------------------\u001b[0m",
      "\u001b[0;31mTypeError\u001b[0m                                 Traceback (most recent call last)",
      "\u001b[0;32m<ipython-input-23-e3b35fbdc683>\u001b[0m in \u001b[0;36m<module>\u001b[0;34m\u001b[0m\n\u001b[0;32m----> 1\u001b[0;31m \u001b[0ma\u001b[0m\u001b[0;34m[\u001b[0m\u001b[0;36m0\u001b[0m\u001b[0;34m]\u001b[0m \u001b[0;34m=\u001b[0m \u001b[0;36m00\u001b[0m\u001b[0;34m\u001b[0m\u001b[0;34m\u001b[0m\u001b[0m\n\u001b[0m",
      "\u001b[0;31mTypeError\u001b[0m: 'tuple' object does not support item assignment"
     ]
    }
   ],
   "source": [
    "a[0] = 00"
   ]
  },
  {
   "cell_type": "code",
   "execution_count": 24,
   "id": "c1b67241",
   "metadata": {},
   "outputs": [
    {
     "data": {
      "text/plain": [
       "{'name': 'a', 'grade': 0}"
      ]
     },
     "execution_count": 24,
     "metadata": {},
     "output_type": "execute_result"
    }
   ],
   "source": [
    "item_info = {'name': 'a', 'grade': 0}\n",
    "item_info"
   ]
  },
  {
   "cell_type": "code",
   "execution_count": 25,
   "id": "b8145250",
   "metadata": {},
   "outputs": [
    {
     "data": {
      "text/plain": [
       "dict"
      ]
     },
     "execution_count": 25,
     "metadata": {},
     "output_type": "execute_result"
    }
   ],
   "source": [
    "type(item_info)"
   ]
  },
  {
   "cell_type": "code",
   "execution_count": 26,
   "id": "e78bdab8",
   "metadata": {},
   "outputs": [
    {
     "data": {
      "text/plain": [
       "'a'"
      ]
     },
     "execution_count": 26,
     "metadata": {},
     "output_type": "execute_result"
    }
   ],
   "source": [
    "item_info['name']"
   ]
  },
  {
   "cell_type": "code",
   "execution_count": 27,
   "id": "29ae76ec",
   "metadata": {},
   "outputs": [],
   "source": [
    "item_info['color'] = 'bule'"
   ]
  },
  {
   "cell_type": "code",
   "execution_count": 28,
   "id": "d9ef79c9",
   "metadata": {},
   "outputs": [
    {
     "data": {
      "text/plain": [
       "{'name': 'a', 'grade': 0, 'color': 'bule'}"
      ]
     },
     "execution_count": 28,
     "metadata": {},
     "output_type": "execute_result"
    }
   ],
   "source": [
    "item_info.get('color_second', 'bule')\n",
    "item_info"
   ]
  },
  {
   "cell_type": "code",
   "execution_count": 30,
   "id": "0cac1b66",
   "metadata": {},
   "outputs": [
    {
     "data": {
      "text/plain": [
       "{'name': 'a', 'grade': 0}"
      ]
     },
     "execution_count": 30,
     "metadata": {},
     "output_type": "execute_result"
    }
   ],
   "source": [
    "del item_info['color']\n",
    "item_info"
   ]
  },
  {
   "cell_type": "code",
   "execution_count": null,
   "id": "a3c56b7e",
   "metadata": {},
   "outputs": [],
   "source": []
  }
 ],
 "metadata": {
  "kernelspec": {
   "display_name": "Python 3",
   "language": "python",
   "name": "python3"
  },
  "language_info": {
   "codemirror_mode": {
    "name": "ipython",
    "version": 3
   },
   "file_extension": ".py",
   "mimetype": "text/x-python",
   "name": "python",
   "nbconvert_exporter": "python",
   "pygments_lexer": "ipython3",
   "version": "3.8.8"
  }
 },
 "nbformat": 4,
 "nbformat_minor": 5
}
