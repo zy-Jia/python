{
 "cells": [
  {
   "cell_type": "code",
   "execution_count": 1,
   "id": "c1fcb97f",
   "metadata": {},
   "outputs": [],
   "source": [
    "import numpy as np\n",
    "from matplotlib import pyplot as plt\n",
    "plt.rcParams['font.sans-serif'] = ['Arial Unicode MS']"
   ]
  },
  {
   "cell_type": "code",
   "execution_count": 2,
   "id": "7d88f782",
   "metadata": {},
   "outputs": [],
   "source": [
    "# 特征\n",
    "raw_data_x= [[3.393533211,2.331273381],\n",
    "             [2.110073483,1.781539638],\n",
    "             [1.343808831,3.368360954],\n",
    "             [3.582294042,4.679179110],\n",
    "             [2.280362439,2.866990263],\n",
    "             [7.423436942,4.696522875],\n",
    "             [5.745051997,3.533989803],\n",
    "             [9.172168622,2.511101045],\n",
    "             [7.792783481,3.424088941],\n",
    "             [7.939820817,0.791637231]\n",
    "            ]\n",
    "# 所属类别\n",
    "raw_data_y = [0,0,0,0,0,1,1,1,1,1]"
   ]
  },
  {
   "cell_type": "code",
   "execution_count": 3,
   "id": "3af1a842",
   "metadata": {},
   "outputs": [],
   "source": [
    "X_train = np.array(raw_data_x)\n",
    "y_train = np.array(raw_data_y)"
   ]
  },
  {
   "cell_type": "code",
   "execution_count": 4,
   "id": "bf55ab14",
   "metadata": {},
   "outputs": [
    {
     "data": {
      "text/plain": [
       "array([3.39353321, 2.11007348, 1.34380883, 3.58229404, 2.28036244])"
      ]
     },
     "execution_count": 4,
     "metadata": {},
     "output_type": "execute_result"
    }
   ],
   "source": [
    "X_train[y_train == 0,0]"
   ]
  },
  {
   "cell_type": "code",
   "execution_count": 5,
   "id": "927faafe",
   "metadata": {},
   "outputs": [],
   "source": [
    "# 要预测的点\n",
    "x = np.array([8.093607318,3.365731514])"
   ]
  },
  {
   "cell_type": "code",
   "execution_count": 6,
   "id": "27c53972",
   "metadata": {},
   "outputs": [
    {
     "data": {
      "image/png": "[encoded data removed]",
      "text/plain": [
       "<Figure size 432x288 with 1 Axes>"
      ]
     },
     "metadata": {
      "needs_background": "light"
     },
     "output_type": "display_data"
    }
   ],
   "source": [
    "plt.scatter(X_train[y_train==0,0],X_train[y_train==0,1], color='b')\n",
    "plt.scatter(X_train[y_train==1,0],X_train[y_train==1,1], color='r')\n",
    "plt.scatter(x[0], x[1], color='purple')\n",
    "plt.xlabel(\"测试\")\n",
    "plt.show()"
   ]
  },
  {
   "cell_type": "code",
   "execution_count": 7,
   "id": "2a64bf82",
   "metadata": {},
   "outputs": [
    {
     "name": "stdout",
     "output_type": "stream",
     "text": [
      "/opt/anaconda3/lib/python3.8/site-packages/matplotlib/mpl-data/matplotlibrc\n"
     ]
    }
   ],
   "source": [
    "import matplotlib\n",
    "print(matplotlib.matplotlib_fname())\n"
   ]
  },
  {
   "cell_type": "code",
   "execution_count": 8,
   "id": "cbfd14b7",
   "metadata": {},
   "outputs": [],
   "source": [
    "k = 5"
   ]
  },
  {
   "cell_type": "code",
   "execution_count": 9,
   "id": "365e9a32",
   "metadata": {},
   "outputs": [
    {
     "data": {
      "text/plain": [
       "[4.812566907609877,\n",
       " 6.189696362066091,\n",
       " 6.749798999160064,\n",
       " 4.6986266144110695,\n",
       " 5.83460014556857,\n",
       " 1.4900114024329525,\n",
       " 2.354574897431513,\n",
       " 1.3761132675144652,\n",
       " 0.3064319992975,\n",
       " 2.5786840957478887]"
      ]
     },
     "execution_count": 9,
     "metadata": {},
     "output_type": "execute_result"
    }
   ],
   "source": [
    "distances = []\n",
    "from math import sqrt\n",
    "for x_i in X_train:\n",
    "    d = sqrt(np.sum((x_i - x)**2))\n",
    "    distances.append(d)\n",
    "distances"
   ]
  },
  {
   "cell_type": "code",
   "execution_count": 10,
   "id": "5f5fa0e6",
   "metadata": {},
   "outputs": [
    {
     "data": {
      "text/plain": [
       "[4.812566907609877,\n",
       " 6.189696362066091,\n",
       " 6.749798999160064,\n",
       " 4.6986266144110695,\n",
       " 5.83460014556857,\n",
       " 1.4900114024329525,\n",
       " 2.354574897431513,\n",
       " 1.3761132675144652,\n",
       " 0.3064319992975,\n",
       " 2.5786840957478887]"
      ]
     },
     "execution_count": 10,
     "metadata": {},
     "output_type": "execute_result"
    }
   ],
   "source": [
    "distances = [sqrt(np.sum((x_i - x)**2)) for x_i in X_train]\n",
    "distances"
   ]
  },
  {
   "cell_type": "code",
   "execution_count": 11,
   "id": "9536c658",
   "metadata": {},
   "outputs": [
    {
     "data": {
      "text/plain": [
       "array([8, 7, 5, 6, 9, 3, 0, 4, 1, 2])"
      ]
     },
     "execution_count": 11,
     "metadata": {},
     "output_type": "execute_result"
    }
   ],
   "source": [
    "nearst = np.argsort(distances)\n",
    "nearst"
   ]
  },
  {
   "cell_type": "code",
   "execution_count": 12,
   "id": "96b9bed1",
   "metadata": {},
   "outputs": [
    {
     "data": {
      "text/plain": [
       "[8, 7, 5, 6, 9]"
      ]
     },
     "execution_count": 12,
     "metadata": {},
     "output_type": "execute_result"
    }
   ],
   "source": [
    "[i for i in nearst[:k]]"
   ]
  },
  {
   "cell_type": "code",
   "execution_count": 13,
   "id": "e2c73720",
   "metadata": {},
   "outputs": [
    {
     "data": {
      "text/plain": [
       "[1, 1, 1, 1, 1]"
      ]
     },
     "execution_count": 13,
     "metadata": {},
     "output_type": "execute_result"
    }
   ],
   "source": [
    "[y_train[i] for i in nearst[:k]]"
   ]
  },
  {
   "cell_type": "code",
   "execution_count": 14,
   "id": "9baa08bc",
   "metadata": {},
   "outputs": [],
   "source": [
    "from collections import Counter"
   ]
  },
  {
   "cell_type": "code",
   "execution_count": 15,
   "id": "dd5a0055",
   "metadata": {},
   "outputs": [
    {
     "data": {
      "text/plain": [
       "[1, 1, 1, 1, 1]"
      ]
     },
     "execution_count": 15,
     "metadata": {},
     "output_type": "execute_result"
    }
   ],
   "source": [
    "res = [y_train[i] for i in nearst[:k]]\n",
    "res"
   ]
  },
  {
   "cell_type": "code",
   "execution_count": 16,
   "id": "bd4b8afa",
   "metadata": {},
   "outputs": [
    {
     "data": {
      "text/plain": [
       "Counter({1: 5})"
      ]
     },
     "execution_count": 16,
     "metadata": {},
     "output_type": "execute_result"
    }
   ],
   "source": [
    "votes = Counter(res)\n",
    "votes"
   ]
  },
  {
   "cell_type": "code",
   "execution_count": 17,
   "id": "c4e059b8",
   "metadata": {},
   "outputs": [
    {
     "data": {
      "text/plain": [
       "1"
      ]
     },
     "execution_count": 17,
     "metadata": {},
     "output_type": "execute_result"
    }
   ],
   "source": [
    "votes.most_common(1)[0][0]"
   ]
  },
  {
   "cell_type": "code",
   "execution_count": null,
   "id": "ecaf5bed",
   "metadata": {},
   "outputs": [],
   "source": []
  }
 ],
 "metadata": {
  "kernelspec": {
   "display_name": "Python 3",
   "language": "python",
   "name": "python3"
  },
  "language_info": {
   "codemirror_mode": {
    "name": "ipython",
    "version": 3
   },
   "file_extension": ".py",
   "mimetype": "text/x-python",
   "name": "python",
   "nbconvert_exporter": "python",
   "pygments_lexer": "ipython3",
   "version": "3.8.8"
  }
 },
 "nbformat": 4,
 "nbformat_minor": 5
}
