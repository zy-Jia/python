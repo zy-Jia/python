{
 "cells": [
  {
   "cell_type": "code",
   "execution_count": 1,
   "id": "c8743405",
   "metadata": {},
   "outputs": [],
   "source": [
    "def test():\n",
    "    print(\"hello world\")"
   ]
  },
  {
   "cell_type": "code",
   "execution_count": 2,
   "id": "a9a822e2",
   "metadata": {},
   "outputs": [
    {
     "name": "stdout",
     "output_type": "stream",
     "text": [
      "hello world\n"
     ]
    }
   ],
   "source": [
    "test()"
   ]
  },
  {
   "cell_type": "code",
   "execution_count": 3,
   "id": "ea281967",
   "metadata": {},
   "outputs": [
    {
     "data": {
      "text/plain": [
       "3"
      ]
     },
     "execution_count": 3,
     "metadata": {},
     "output_type": "execute_result"
    }
   ],
   "source": [
    "def getSum(n):\n",
    "    sum = 0\n",
    "    for i in range(n + 1):\n",
    "        sum += i\n",
    "        \n",
    "    return sum\n",
    "\n",
    "getSum(2)"
   ]
  },
  {
   "cell_type": "code",
   "execution_count": 4,
   "id": "61bdfff4",
   "metadata": {},
   "outputs": [],
   "source": [
    "class Student():\n",
    "    def __init__(self, name, score):\n",
    "        print(\"__init__\")\n",
    "        self.name = name\n",
    "        self.__score = score\n",
    "\n",
    "        \n",
    "    def study(self):\n",
    "        print(\"learning and self's address is {}\".format(id(self)))\n",
    "        \n",
    "        \n",
    "    def show_score(self):\n",
    "        print(\"{}'s score is '{}\".format(self.name,self.__score))"
   ]
  },
  {
   "cell_type": "code",
   "execution_count": 5,
   "id": "3aab1f12",
   "metadata": {},
   "outputs": [
    {
     "name": "stdout",
     "output_type": "stream",
     "text": [
      "__init__\n"
     ]
    }
   ],
   "source": [
    "stu = Student('yufu', 100)"
   ]
  },
  {
   "cell_type": "code",
   "execution_count": 7,
   "id": "c841fb60",
   "metadata": {},
   "outputs": [
    {
     "name": "stdout",
     "output_type": "stream",
     "text": [
      "learning and self's address is 140255659899536\n"
     ]
    }
   ],
   "source": [
    "stu.study()"
   ]
  },
  {
   "cell_type": "code",
   "execution_count": 14,
   "id": "f87d4311",
   "metadata": {},
   "outputs": [
    {
     "name": "stdout",
     "output_type": "stream",
     "text": [
      "yufu's score is 100\n"
     ]
    }
   ],
   "source": [
    "stu.show_score()"
   ]
  },
  {
   "cell_type": "code",
   "execution_count": null,
   "id": "d3296d86",
   "metadata": {},
   "outputs": [],
   "source": []
  }
 ],
 "metadata": {
  "kernelspec": {
   "display_name": "Python 3",
   "language": "python",
   "name": "python3"
  },
  "language_info": {
   "codemirror_mode": {
    "name": "ipython",
    "version": 3
   },
   "file_extension": ".py",
   "mimetype": "text/x-python",
   "name": "python",
   "nbconvert_exporter": "python",
   "pygments_lexer": "ipython3",
   "version": "3.8.8"
  }
 },
 "nbformat": 4,
 "nbformat_minor": 5
}
