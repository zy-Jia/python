{
 "cells": [
  {
   "cell_type": "code",
   "execution_count": 1,
   "id": "57de1e43",
   "metadata": {},
   "outputs": [],
   "source": [
    "import numpy as np\n",
    "import matplotlib\n",
    "from matplotlib import pyplot as plt\n",
    "from sklearn import datasets"
   ]
  },
  {
   "cell_type": "code",
   "execution_count": 2,
   "id": "7860f79c",
   "metadata": {},
   "outputs": [
    {
     "data": {
      "text/plain": [
       "dict_keys(['data', 'target', 'frame', 'feature_names', 'target_names', 'images', 'DESCR'])"
      ]
     },
     "execution_count": 2,
     "metadata": {},
     "output_type": "execute_result"
    }
   ],
   "source": [
    "digits = datasets.load_digits()\n",
    "digits.keys()"
   ]
  },
  {
   "cell_type": "code",
   "execution_count": 3,
   "id": "8b811eb6",
   "metadata": {},
   "outputs": [
    {
     "data": {
      "text/plain": [
       "numpy.ndarray"
      ]
     },
     "execution_count": 3,
     "metadata": {},
     "output_type": "execute_result"
    }
   ],
   "source": [
    "X = digits.data\n",
    "y = digits.target\n",
    "type(X)"
   ]
  },
  {
   "cell_type": "code",
   "execution_count": 4,
   "id": "b191b8c4",
   "metadata": {},
   "outputs": [],
   "source": [
    "# X_binary = []\n",
    "# for x in X:\n",
    "#     x_curr = []\n",
    "#     for i in x:\n",
    "#         if i > 7:\n",
    "#             x_curr.append(1)\n",
    "#         else:\n",
    "#             x_curr.append(0)\n",
    "#     X_binary.append(x_curr)\n",
    "# X = np.asarray(X_binary)"
   ]
  },
  {
   "cell_type": "code",
   "execution_count": 5,
   "id": "8f7d5ae8",
   "metadata": {},
   "outputs": [],
   "source": [
    "X_ONE = X[1].reshape(8, -1)"
   ]
  },
  {
   "cell_type": "code",
   "execution_count": 6,
   "id": "774ce8b0",
   "metadata": {},
   "outputs": [
    {
     "data": {
      "image/png": "[encoded data removed]",
      "text/plain": [
       "<Figure size 432x288 with 1 Axes>"
      ]
     },
     "metadata": {
      "needs_background": "light"
     },
     "output_type": "display_data"
    }
   ],
   "source": [
    "plt.imshow(X_ONE, cmap=matplotlib.cm.binary)\n",
    "plt.show()"
   ]
  },
  {
   "cell_type": "code",
   "execution_count": 7,
   "id": "ab1baeb4",
   "metadata": {},
   "outputs": [
    {
     "data": {
      "text/plain": [
       "0.9944289693593314"
      ]
     },
     "execution_count": 7,
     "metadata": {},
     "output_type": "execute_result"
    }
   ],
   "source": [
    "from ML_Package.KNNClassifier import KNNClassifier\n",
    "from ML_Package.train_test_split import train_test_split\n",
    "\n",
    "X_train, X_test, y_train, y_test = train_test_split(X, y)\n",
    "# print(X_train, X_test, y_train, y_test)\n",
    "# for i in range(1, 20):\n",
    "#     knnC = KNNClassifier(i)\n",
    "#     knnC.fit(X_train, y_train)\n",
    "#     score = knnC.score(X_test, y_test)\n",
    "#     print(score, i)\n",
    "knnC = KNNClassifier(4)\n",
    "knnC.fit(X_train, y_train)\n",
    "knnC.score(X_test, y_test)"
   ]
  },
  {
   "cell_type": "code",
   "execution_count": 8,
   "id": "715711ff",
   "metadata": {},
   "outputs": [
    {
     "data": {
      "image/png": "[encoded data removed]",
      "text/plain": [
       "<Figure size 432x288 with 1 Axes>"
      ]
     },
     "metadata": {
      "needs_background": "light"
     },
     "output_type": "display_data"
    }
   ],
   "source": [
    "X_show = X_test[0].reshape(8, -1)\n",
    "plt.imshow(X_show)\n",
    "plt.show()"
   ]
  },
  {
   "cell_type": "code",
   "execution_count": null,
   "id": "36c3ff45",
   "metadata": {},
   "outputs": [],
   "source": []
  },
  {
   "cell_type": "code",
   "execution_count": null,
   "id": "a26df392",
   "metadata": {},
   "outputs": [],
   "source": []
  }
 ],
 "metadata": {
  "kernelspec": {
   "display_name": "Python 3",
   "language": "python",
   "name": "python3"
  },
  "language_info": {
   "codemirror_mode": {
    "name": "ipython",
    "version": 3
   },
   "file_extension": ".py",
   "mimetype": "text/x-python",
   "name": "python",
   "nbconvert_exporter": "python",
   "pygments_lexer": "ipython3",
   "version": "3.8.8"
  }
 },
 "nbformat": 4,
 "nbformat_minor": 5
}
