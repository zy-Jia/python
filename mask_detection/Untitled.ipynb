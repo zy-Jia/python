{
 "cells": [
  {
   "cell_type": "code",
   "execution_count": 5,
   "id": "78a5c8bc",
   "metadata": {},
   "outputs": [],
   "source": [
    "import torch\n",
    "import tensorwatch as tw\n",
    "from alexnet.model import AlexNet\n",
    "from vgg.model import VGG\n",
    "from NN_base.NN import NN as NN_base\n",
    "from efficientNet.model import efficientnet_b0\n",
    "\n",
    "model = AlexNet(3)\n",
    "torch.save(model, 'AlexNet.pth')\n",
    "model = VGG('vgg16', 3)\n",
    "torch.save(model, 'vgg.pth')\n",
    "model = NN_base()\n",
    "torch.save(model, 'NN_base.pth')\n",
    "model = efficientnet_b0(3)\n",
    "torch.save(model, 'efficientnet_b0.pth')"
   ]
  },
  {
   "cell_type": "code",
   "execution_count": null,
   "id": "9a900387",
   "metadata": {},
   "outputs": [],
   "source": []
  }
 ],
 "metadata": {
  "kernelspec": {
   "display_name": "Python 3",
   "language": "python",
   "name": "python3"
  },
  "language_info": {
   "codemirror_mode": {
    "name": "ipython",
    "version": 3
   },
   "file_extension": ".py",
   "mimetype": "text/x-python",
   "name": "python",
   "nbconvert_exporter": "python",
   "pygments_lexer": "ipython3",
   "version": "3.7.0"
  }
 },
 "nbformat": 4,
 "nbformat_minor": 5
}
